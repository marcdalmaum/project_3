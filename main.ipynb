{
 "cells": [
  {
   "cell_type": "code",
   "execution_count": 1,
   "metadata": {},
   "outputs": [],
   "source": [
    "from pymongo import MongoClient\n",
    "import pandas as pd"
   ]
  },
  {
   "cell_type": "code",
   "execution_count": 2,
   "metadata": {},
   "outputs": [],
   "source": [
    "client = MongoClient(\"localhost:27017\")\n",
    "db = client[\"ironhack\"]\n",
    "c = db.get_collection(\"companies\")"
   ]
  },
  {
   "cell_type": "code",
   "execution_count": 3,
   "metadata": {},
   "outputs": [],
   "source": [
    "def mongo_extract (filter):\n",
    "    projection = {\"_id\":0, \"name\":1, \"category_code\":1, \"tag_list\":1, \"total_money_raised\":1, \"offices.city\":1, \"offices.state_code\": 1, \"offices.country_code\":1}\n",
    "    \n",
    "    list_ = list(c.find(filter, projection))\n",
    "\n",
    "    df = pd.DataFrame(list_).explode(\"offices\").reset_index(drop=True)\n",
    "    df = pd.concat([df, df[\"offices\"].apply(pd.Series)], axis=1).reset_index(drop=True)\n",
    "    df = df.drop([\"offices\", 0], axis = 1)\n",
    "    df = df[df[\"city\"]!=\"\"]\n",
    "    return df"
   ]
  },
  {
   "cell_type": "code",
   "execution_count": 4,
   "metadata": {},
   "outputs": [
    {
     "data": {
      "text/plain": [
       "San Francisco    436\n",
       "New York         335\n",
       "London           173\n",
       "Seattle          110\n",
       "Mountain View    106\n",
       "Name: city, dtype: int64"
      ]
     },
     "execution_count": 4,
     "metadata": {},
     "output_type": "execute_result"
    }
   ],
   "source": [
    "money_filter = {\"total_money_raised\" : {\"$regex\" : \"[$€].*[MB]\"}}\n",
    "money_df = mongo_extract(money_filter)\n",
    "money_df[\"city\"].value_counts()[:5]"
   ]
  },
  {
   "cell_type": "code",
   "execution_count": 5,
   "metadata": {},
   "outputs": [
    {
     "data": {
      "text/plain": [
       "London           24\n",
       "New York         23\n",
       "San Francisco    20\n",
       "San Diego        11\n",
       "Chennai          10\n",
       "Name: city, dtype: int64"
      ]
     },
     "execution_count": 5,
     "metadata": {},
     "output_type": "execute_result"
    }
   ],
   "source": [
    "design_filter = {\"tag_list\" : {\"$regex\" : \"design\"}}\n",
    "design_df = mongo_extract(design_filter)\n",
    "design_df[\"city\"].value_counts()[:5]"
   ]
  },
  {
   "cell_type": "code",
   "execution_count": 6,
   "metadata": {},
   "outputs": [
    {
     "data": {
      "text/plain": [
       "New York         75\n",
       "San Francisco    68\n",
       "London           36\n",
       "Los Angeles      31\n",
       "Paris            17\n",
       "Name: city, dtype: int64"
      ]
     },
     "execution_count": 6,
     "metadata": {},
     "output_type": "execute_result"
    }
   ],
   "source": [
    "gaming_filter = {\"category_code\" : \"games_video\"}\n",
    "gaming_df = mongo_extract(gaming_filter)\n",
    "gaming_df[\"city\"].value_counts()[:5]\n"
   ]
  },
  {
   "cell_type": "code",
   "execution_count": null,
   "metadata": {},
   "outputs": [],
   "source": []
  }
 ],
 "metadata": {
  "kernelspec": {
   "display_name": "Python 3.10.4 ('ironhack')",
   "language": "python",
   "name": "python3"
  },
  "language_info": {
   "codemirror_mode": {
    "name": "ipython",
    "version": 3
   },
   "file_extension": ".py",
   "mimetype": "text/x-python",
   "name": "python",
   "nbconvert_exporter": "python",
   "pygments_lexer": "ipython3",
   "version": "3.10.4"
  },
  "orig_nbformat": 4,
  "vscode": {
   "interpreter": {
    "hash": "10cad967c453900039007de2b11d94e822a1579bed14f6590fb511028dcecd61"
   }
  }
 },
 "nbformat": 4,
 "nbformat_minor": 2
}
